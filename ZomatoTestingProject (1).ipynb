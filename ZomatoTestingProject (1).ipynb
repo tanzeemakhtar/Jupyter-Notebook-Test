{
 "cells": [
  {
   "cell_type": "markdown",
   "id": "9a2da848-95aa-4a1e-8a0c-0886ab0019c0",
   "metadata": {},
   "source": [
    "# HERE IS THE SOME QUESTIONS WE ANWERED IN THE FORM OF DATA VISUALIZATION AND DATA CLEANING:\n",
    "\n",
    " # 1).What type of resturant do the majority of custumer order from?\n",
    "  # 2).How many votes has each type of resturant have received from customers?\n",
    "  # 3).What are the rating majority of resturants recived?\n",
    "  # 4).What is average spending on Zomato?\n",
    "  # 5).which type of resturant received more offline orders?"
   ]
  },
  {
   "cell_type": "markdown",
   "id": "e7d450ab-1bfc-4011-a675-ad6dcad2c301",
   "metadata": {},
   "source": [
    "# importing libraries and Creating DataFrame"
   ]
  },
  {
   "cell_type": "code",
   "execution_count": 1,
   "id": "28470dd8-ebfa-4ed5-b5d4-bdee1600835c",
   "metadata": {},
   "outputs": [
    {
     "data": {
      "text/html": [
       "<div>\n",
       "<style scoped>\n",
       "    .dataframe tbody tr th:only-of-type {\n",
       "        vertical-align: middle;\n",
       "    }\n",
       "\n",
       "    .dataframe tbody tr th {\n",
       "        vertical-align: top;\n",
       "    }\n",
       "\n",
       "    .dataframe thead th {\n",
       "        text-align: right;\n",
       "    }\n",
       "</style>\n",
       "<table border=\"1\" class=\"dataframe\">\n",
       "  <thead>\n",
       "    <tr style=\"text-align: right;\">\n",
       "      <th></th>\n",
       "      <th>name</th>\n",
       "      <th>online_order</th>\n",
       "      <th>book_table</th>\n",
       "      <th>rate</th>\n",
       "      <th>votes</th>\n",
       "      <th>approx_cost(for two people)</th>\n",
       "      <th>listed_in(type)</th>\n",
       "    </tr>\n",
       "  </thead>\n",
       "  <tbody>\n",
       "    <tr>\n",
       "      <th>0</th>\n",
       "      <td>Jalsa</td>\n",
       "      <td>Yes</td>\n",
       "      <td>Yes</td>\n",
       "      <td>4.1/5</td>\n",
       "      <td>775</td>\n",
       "      <td>800</td>\n",
       "      <td>Buffet</td>\n",
       "    </tr>\n",
       "    <tr>\n",
       "      <th>1</th>\n",
       "      <td>Spice Elephant</td>\n",
       "      <td>Yes</td>\n",
       "      <td>No</td>\n",
       "      <td>4.1/5</td>\n",
       "      <td>787</td>\n",
       "      <td>800</td>\n",
       "      <td>Buffet</td>\n",
       "    </tr>\n",
       "    <tr>\n",
       "      <th>2</th>\n",
       "      <td>San Churro Cafe</td>\n",
       "      <td>Yes</td>\n",
       "      <td>No</td>\n",
       "      <td>3.8/5</td>\n",
       "      <td>918</td>\n",
       "      <td>800</td>\n",
       "      <td>Buffet</td>\n",
       "    </tr>\n",
       "    <tr>\n",
       "      <th>3</th>\n",
       "      <td>Addhuri Udupi Bhojana</td>\n",
       "      <td>No</td>\n",
       "      <td>No</td>\n",
       "      <td>3.7/5</td>\n",
       "      <td>88</td>\n",
       "      <td>300</td>\n",
       "      <td>Buffet</td>\n",
       "    </tr>\n",
       "    <tr>\n",
       "      <th>4</th>\n",
       "      <td>Grand Village</td>\n",
       "      <td>No</td>\n",
       "      <td>No</td>\n",
       "      <td>3.8/5</td>\n",
       "      <td>166</td>\n",
       "      <td>600</td>\n",
       "      <td>Buffet</td>\n",
       "    </tr>\n",
       "    <tr>\n",
       "      <th>...</th>\n",
       "      <td>...</td>\n",
       "      <td>...</td>\n",
       "      <td>...</td>\n",
       "      <td>...</td>\n",
       "      <td>...</td>\n",
       "      <td>...</td>\n",
       "      <td>...</td>\n",
       "    </tr>\n",
       "    <tr>\n",
       "      <th>143</th>\n",
       "      <td>Melting Melodies</td>\n",
       "      <td>No</td>\n",
       "      <td>No</td>\n",
       "      <td>3.3/5</td>\n",
       "      <td>0</td>\n",
       "      <td>100</td>\n",
       "      <td>Dining</td>\n",
       "    </tr>\n",
       "    <tr>\n",
       "      <th>144</th>\n",
       "      <td>New Indraprasta</td>\n",
       "      <td>No</td>\n",
       "      <td>No</td>\n",
       "      <td>3.3/5</td>\n",
       "      <td>0</td>\n",
       "      <td>150</td>\n",
       "      <td>Dining</td>\n",
       "    </tr>\n",
       "    <tr>\n",
       "      <th>145</th>\n",
       "      <td>Anna Kuteera</td>\n",
       "      <td>Yes</td>\n",
       "      <td>No</td>\n",
       "      <td>4.0/5</td>\n",
       "      <td>771</td>\n",
       "      <td>450</td>\n",
       "      <td>Dining</td>\n",
       "    </tr>\n",
       "    <tr>\n",
       "      <th>146</th>\n",
       "      <td>Darbar</td>\n",
       "      <td>No</td>\n",
       "      <td>No</td>\n",
       "      <td>3.0/5</td>\n",
       "      <td>98</td>\n",
       "      <td>800</td>\n",
       "      <td>Dining</td>\n",
       "    </tr>\n",
       "    <tr>\n",
       "      <th>147</th>\n",
       "      <td>Vijayalakshmi</td>\n",
       "      <td>Yes</td>\n",
       "      <td>No</td>\n",
       "      <td>3.9/5</td>\n",
       "      <td>47</td>\n",
       "      <td>200</td>\n",
       "      <td>Dining</td>\n",
       "    </tr>\n",
       "  </tbody>\n",
       "</table>\n",
       "<p>148 rows × 7 columns</p>\n",
       "</div>"
      ],
      "text/plain": [
       "                      name online_order book_table   rate  votes  \\\n",
       "0                    Jalsa          Yes        Yes  4.1/5    775   \n",
       "1           Spice Elephant          Yes         No  4.1/5    787   \n",
       "2          San Churro Cafe          Yes         No  3.8/5    918   \n",
       "3    Addhuri Udupi Bhojana           No         No  3.7/5     88   \n",
       "4            Grand Village           No         No  3.8/5    166   \n",
       "..                     ...          ...        ...    ...    ...   \n",
       "143       Melting Melodies           No         No  3.3/5      0   \n",
       "144        New Indraprasta           No         No  3.3/5      0   \n",
       "145           Anna Kuteera          Yes         No  4.0/5    771   \n",
       "146                 Darbar           No         No  3.0/5     98   \n",
       "147          Vijayalakshmi          Yes         No  3.9/5     47   \n",
       "\n",
       "     approx_cost(for two people) listed_in(type)  \n",
       "0                            800          Buffet  \n",
       "1                            800          Buffet  \n",
       "2                            800          Buffet  \n",
       "3                            300          Buffet  \n",
       "4                            600          Buffet  \n",
       "..                           ...             ...  \n",
       "143                          100          Dining  \n",
       "144                          150          Dining  \n",
       "145                          450          Dining  \n",
       "146                          800          Dining  \n",
       "147                          200          Dining  \n",
       "\n",
       "[148 rows x 7 columns]"
      ]
     },
     "execution_count": 1,
     "metadata": {},
     "output_type": "execute_result"
    }
   ],
   "source": [
    "import numpy as np\n",
    "import pandas as pd\n",
    "import matplotlib.pyplot as plt\n",
    "import seaborn as sns\n",
    "dataframe = pd.read_csv(\"Zomato data .csv\")\n",
    "dataframe"
   ]
  },
  {
   "cell_type": "markdown",
   "id": "f0006be4-66d3-4ddd-a0d8-d1a89f13e1c5",
   "metadata": {},
   "source": [
    "# Converting the dataype into column-rate"
   ]
  },
  {
   "cell_type": "code",
   "execution_count": 3,
   "id": "f2e48ead-bc8a-4dad-9731-cdbb4d1f8924",
   "metadata": {},
   "outputs": [
    {
     "name": "stdout",
     "output_type": "stream",
     "text": [
      "                    name online_order book_table  rate  votes  \\\n",
      "0                  Jalsa          Yes        Yes   4.1    775   \n",
      "1         Spice Elephant          Yes         No   4.1    787   \n",
      "2        San Churro Cafe          Yes         No   3.8    918   \n",
      "3  Addhuri Udupi Bhojana           No         No   3.7     88   \n",
      "4          Grand Village           No         No   3.8    166   \n",
      "\n",
      "   approx_cost(for two people) listed_in(type)  \n",
      "0                          800          Buffet  \n",
      "1                          800          Buffet  \n",
      "2                          800          Buffet  \n",
      "3                          300          Buffet  \n",
      "4                          600          Buffet  \n"
     ]
    }
   ],
   "source": [
    "def handleRate(value):\n",
    "    value=str(value).split('/')\n",
    "    value=value[0];\n",
    "    return float (value)\n",
    "\n",
    "dataframe['rate']=dataframe['rate'].apply(handleRate)\n",
    "print(dataframe.head())"
   ]
  },
  {
   "cell_type": "markdown",
   "id": "85059418-eb61-40d8-81c5-150077968a19",
   "metadata": {},
   "source": [
    "# Type of Resturant"
   ]
  },
  {
   "cell_type": "code",
   "execution_count": 5,
   "id": "ae4467f3-84a1-4bd6-9509-abbab0aec858",
   "metadata": {},
   "outputs": [
    {
     "data": {
      "text/html": [
       "<div>\n",
       "<style scoped>\n",
       "    .dataframe tbody tr th:only-of-type {\n",
       "        vertical-align: middle;\n",
       "    }\n",
       "\n",
       "    .dataframe tbody tr th {\n",
       "        vertical-align: top;\n",
       "    }\n",
       "\n",
       "    .dataframe thead th {\n",
       "        text-align: right;\n",
       "    }\n",
       "</style>\n",
       "<table border=\"1\" class=\"dataframe\">\n",
       "  <thead>\n",
       "    <tr style=\"text-align: right;\">\n",
       "      <th></th>\n",
       "      <th>name</th>\n",
       "      <th>online_order</th>\n",
       "      <th>book_table</th>\n",
       "      <th>rate</th>\n",
       "      <th>votes</th>\n",
       "      <th>approx_cost(for two people)</th>\n",
       "      <th>listed_in(type)</th>\n",
       "    </tr>\n",
       "  </thead>\n",
       "  <tbody>\n",
       "    <tr>\n",
       "      <th>0</th>\n",
       "      <td>Jalsa</td>\n",
       "      <td>Yes</td>\n",
       "      <td>Yes</td>\n",
       "      <td>4.1</td>\n",
       "      <td>775</td>\n",
       "      <td>800</td>\n",
       "      <td>Buffet</td>\n",
       "    </tr>\n",
       "    <tr>\n",
       "      <th>1</th>\n",
       "      <td>Spice Elephant</td>\n",
       "      <td>Yes</td>\n",
       "      <td>No</td>\n",
       "      <td>4.1</td>\n",
       "      <td>787</td>\n",
       "      <td>800</td>\n",
       "      <td>Buffet</td>\n",
       "    </tr>\n",
       "    <tr>\n",
       "      <th>2</th>\n",
       "      <td>San Churro Cafe</td>\n",
       "      <td>Yes</td>\n",
       "      <td>No</td>\n",
       "      <td>3.8</td>\n",
       "      <td>918</td>\n",
       "      <td>800</td>\n",
       "      <td>Buffet</td>\n",
       "    </tr>\n",
       "    <tr>\n",
       "      <th>3</th>\n",
       "      <td>Addhuri Udupi Bhojana</td>\n",
       "      <td>No</td>\n",
       "      <td>No</td>\n",
       "      <td>3.7</td>\n",
       "      <td>88</td>\n",
       "      <td>300</td>\n",
       "      <td>Buffet</td>\n",
       "    </tr>\n",
       "    <tr>\n",
       "      <th>4</th>\n",
       "      <td>Grand Village</td>\n",
       "      <td>No</td>\n",
       "      <td>No</td>\n",
       "      <td>3.8</td>\n",
       "      <td>166</td>\n",
       "      <td>600</td>\n",
       "      <td>Buffet</td>\n",
       "    </tr>\n",
       "  </tbody>\n",
       "</table>\n",
       "</div>"
      ],
      "text/plain": [
       "                    name online_order book_table  rate  votes  \\\n",
       "0                  Jalsa          Yes        Yes   4.1    775   \n",
       "1         Spice Elephant          Yes         No   4.1    787   \n",
       "2        San Churro Cafe          Yes         No   3.8    918   \n",
       "3  Addhuri Udupi Bhojana           No         No   3.7     88   \n",
       "4          Grand Village           No         No   3.8    166   \n",
       "\n",
       "   approx_cost(for two people) listed_in(type)  \n",
       "0                          800          Buffet  \n",
       "1                          800          Buffet  \n",
       "2                          800          Buffet  \n",
       "3                          300          Buffet  \n",
       "4                          600          Buffet  "
      ]
     },
     "execution_count": 5,
     "metadata": {},
     "output_type": "execute_result"
    }
   ],
   "source": [
    "dataframe.head()"
   ]
  },
  {
   "cell_type": "code",
   "execution_count": 7,
   "id": "85940796-6aea-43c3-988d-510472ea8c2e",
   "metadata": {},
   "outputs": [
    {
     "data": {
      "text/plain": [
       "Text(0.5, 0, 'the type of resturant')"
      ]
     },
     "execution_count": 7,
     "metadata": {},
     "output_type": "execute_result"
    },
    {
     "data": {
      "image/png": "[encoded data removed]",
      "text/plain": [
       "<Figure size 640x480 with 1 Axes>"
      ]
     },
     "metadata": {},
     "output_type": "display_data"
    }
   ],
   "source": [
    "sns.countplot(x=dataframe['listed_in(type)'])\n",
    "plt.xlabel(\"the type of resturant\")"
   ]
  },
  {
   "cell_type": "markdown",
   "id": "b258ec62-5e03-4d14-9862-bc69bf798480",
   "metadata": {},
   "source": [
    "# majority of resturant falls in dinning categories"
   ]
  },
  {
   "cell_type": "code",
   "execution_count": 17,
   "id": "af55687b-d6af-4568-b036-c353a0b2b3a7",
   "metadata": {},
   "outputs": [
    {
     "data": {
      "text/plain": [
       "Text(0, 0.5, 'votes')"
      ]
     },
     "execution_count": 17,
     "metadata": {},
     "output_type": "execute_result"
    },
    {
     "data": {
      "image/png": "[encoded data removed]",
      "text/plain": [
       "<Figure size 640x480 with 1 Axes>"
      ]
     },
     "metadata": {},
     "output_type": "display_data"
    }
   ],
   "source": [
    "grouped_data= dataframe.groupby('listed_in(type)')['votes'].sum()\n",
    "result=pd.DataFrame({'votes':grouped_data})\n",
    "plt.plot(result, c=\"green\", marker=\"o\")\n",
    "plt.xlabel(\"the type of resturant\", c=\"orange\", size=20)\n",
    "plt.ylabel(\"votes\", c=\"orange\",size=20)"
   ]
  },
  {
   "cell_type": "markdown",
   "id": "ae4c6b3d-a7ce-4d44-9285-2a859220911a",
   "metadata": {},
   "source": [
    "# Dinning resturants have maximum votes"
   ]
  },
  {
   "cell_type": "code",
   "execution_count": 23,
   "id": "5e86f927-1dd1-4d3d-873b-c4c0d3e041a0",
   "metadata": {},
   "outputs": [
    {
     "data": {
      "image/png": "[encoded data removed]",
      "text/plain": [
       "<Figure size 640x480 with 1 Axes>"
      ]
     },
     "metadata": {},
     "output_type": "display_data"
    }
   ],
   "source": [
    "plt.hist(dataframe['rate'],bins=5)\n",
    "plt.title(\"Rating distribtuion\")\n",
    "plt.show()"
   ]
  },
  {
   "cell_type": "markdown",
   "id": "37e3e22d-1312-4047-95aa-b4dc91839fcd",
   "metadata": {},
   "source": [
    "# The majority rating is 3.5 to  4.5 "
   ]
  },
  {
   "cell_type": "code",
   "execution_count": 33,
   "id": "25fb6478-5bb7-4ef8-92f1-2bc3aacf81db",
   "metadata": {},
   "outputs": [
    {
     "data": {
      "text/plain": [
       "<Axes: xlabel='approx_cost(for two people)', ylabel='count'>"
      ]
     },
     "execution_count": 33,
     "metadata": {},
     "output_type": "execute_result"
    },
    {
     "data": {
      "image/png": "[encoded data removed]",
      "text/plain": [
       "<Figure size 640x480 with 1 Axes>"
      ]
     },
     "metadata": {},
     "output_type": "display_data"
    }
   ],
   "source": [
    "couple_data=dataframe['approx_cost(for two people)']\n",
    "sns.countplot(x=couple_data)"
   ]
  },
  {
   "cell_type": "markdown",
   "id": "42f2eb20-03c0-45ce-8b99-fcfa7785df8c",
   "metadata": {},
   "source": [
    "# the Majority(Average) of Couples Prefer to Resturant  is 300"
   ]
  },
  {
   "cell_type": "code",
   "execution_count": 35,
   "id": "34bc7989-7c32-4de7-9017-36e38989cf8f",
   "metadata": {},
   "outputs": [
    {
     "data": {
      "text/html": [
       "<div>\n",
       "<style scoped>\n",
       "    .dataframe tbody tr th:only-of-type {\n",
       "        vertical-align: middle;\n",
       "    }\n",
       "\n",
       "    .dataframe tbody tr th {\n",
       "        vertical-align: top;\n",
       "    }\n",
       "\n",
       "    .dataframe thead th {\n",
       "        text-align: right;\n",
       "    }\n",
       "</style>\n",
       "<table border=\"1\" class=\"dataframe\">\n",
       "  <thead>\n",
       "    <tr style=\"text-align: right;\">\n",
       "      <th></th>\n",
       "      <th>name</th>\n",
       "      <th>online_order</th>\n",
       "      <th>book_table</th>\n",
       "      <th>rate</th>\n",
       "      <th>votes</th>\n",
       "      <th>approx_cost(for two people)</th>\n",
       "      <th>listed_in(type)</th>\n",
       "    </tr>\n",
       "  </thead>\n",
       "  <tbody>\n",
       "    <tr>\n",
       "      <th>0</th>\n",
       "      <td>Jalsa</td>\n",
       "      <td>Yes</td>\n",
       "      <td>Yes</td>\n",
       "      <td>4.1</td>\n",
       "      <td>775</td>\n",
       "      <td>800</td>\n",
       "      <td>Buffet</td>\n",
       "    </tr>\n",
       "    <tr>\n",
       "      <th>1</th>\n",
       "      <td>Spice Elephant</td>\n",
       "      <td>Yes</td>\n",
       "      <td>No</td>\n",
       "      <td>4.1</td>\n",
       "      <td>787</td>\n",
       "      <td>800</td>\n",
       "      <td>Buffet</td>\n",
       "    </tr>\n",
       "    <tr>\n",
       "      <th>2</th>\n",
       "      <td>San Churro Cafe</td>\n",
       "      <td>Yes</td>\n",
       "      <td>No</td>\n",
       "      <td>3.8</td>\n",
       "      <td>918</td>\n",
       "      <td>800</td>\n",
       "      <td>Buffet</td>\n",
       "    </tr>\n",
       "    <tr>\n",
       "      <th>3</th>\n",
       "      <td>Addhuri Udupi Bhojana</td>\n",
       "      <td>No</td>\n",
       "      <td>No</td>\n",
       "      <td>3.7</td>\n",
       "      <td>88</td>\n",
       "      <td>300</td>\n",
       "      <td>Buffet</td>\n",
       "    </tr>\n",
       "    <tr>\n",
       "      <th>4</th>\n",
       "      <td>Grand Village</td>\n",
       "      <td>No</td>\n",
       "      <td>No</td>\n",
       "      <td>3.8</td>\n",
       "      <td>166</td>\n",
       "      <td>600</td>\n",
       "      <td>Buffet</td>\n",
       "    </tr>\n",
       "  </tbody>\n",
       "</table>\n",
       "</div>"
      ],
      "text/plain": [
       "                    name online_order book_table  rate  votes  \\\n",
       "0                  Jalsa          Yes        Yes   4.1    775   \n",
       "1         Spice Elephant          Yes         No   4.1    787   \n",
       "2        San Churro Cafe          Yes         No   3.8    918   \n",
       "3  Addhuri Udupi Bhojana           No         No   3.7     88   \n",
       "4          Grand Village           No         No   3.8    166   \n",
       "\n",
       "   approx_cost(for two people) listed_in(type)  \n",
       "0                          800          Buffet  \n",
       "1                          800          Buffet  \n",
       "2                          800          Buffet  \n",
       "3                          300          Buffet  \n",
       "4                          600          Buffet  "
      ]
     },
     "execution_count": 35,
     "metadata": {},
     "output_type": "execute_result"
    }
   ],
   "source": [
    "dataframe.head()"
   ]
  },
  {
   "cell_type": "markdown",
   "id": "68b61a74-a149-4077-82cf-ebdc431304e4",
   "metadata": {},
   "source": [
    "# Which mode recives maximum rating"
   ]
  },
  {
   "cell_type": "code",
   "execution_count": 45,
   "id": "18c7ddc0-a71a-4c71-87be-95a94beb2939",
   "metadata": {},
   "outputs": [
    {
     "data": {
      "text/plain": [
       "<Axes: xlabel='online_order', ylabel='rate'>"
      ]
     },
     "execution_count": 45,
     "metadata": {},
     "output_type": "execute_result"
    },
    {
     "data": {
      "image/png": "[encoded data removed]",
      "text/plain": [
       "<Figure size 600x600 with 1 Axes>"
      ]
     },
     "metadata": {},
     "output_type": "display_data"
    }
   ],
   "source": [
    "plt.figure(figsize=(6,6))\n",
    "sns.boxplot(x='online_order', y='rate',data= dataframe,color=\"red\",)"
   ]
  },
  {
   "cell_type": "markdown",
   "id": "52f5f5db-b388-4448-844f-3d7ae0355395",
   "metadata": {},
   "source": [
    "# ----Offline order Recives lower rating in comparison to online order"
   ]
  },
  {
   "cell_type": "code",
   "execution_count": null,
   "id": "9f05709d-6466-4ac4-a0d7-9d7998f3a05e",
   "metadata": {},
   "outputs": [],
   "source": []
  }
 ],
 "metadata": {
  "kernelspec": {
   "display_name": "Python 3 (ipykernel)",
   "language": "python",
   "name": "python3"
  },
  "language_info": {
   "codemirror_mode": {
    "name": "ipython",
    "version": 3
   },
   "file_extension": ".py",
   "mimetype": "text/x-python",
   "name": "python",
   "nbconvert_exporter": "python",
   "pygments_lexer": "ipython3",
   "version": "3.12.4"
  }
 },
 "nbformat": 4,
 "nbformat_minor": 5
}
